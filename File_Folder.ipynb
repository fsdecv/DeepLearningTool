{
  "nbformat": 4,
  "nbformat_minor": 0,
  "metadata": {
    "colab": {
      "name": "File-Folder.ipynb",
      "provenance": [],
      "collapsed_sections": [],
      "authorship_tag": "ABX9TyOZ5Ab0CrA2WQIzOYMJ2MXn"
    },
    "kernelspec": {
      "name": "python3",
      "display_name": "Python 3"
    }
  },
  "cells": [
    {
      "cell_type": "markdown",
      "metadata": {
        "id": "SwkGWNnOQ3rx"
      },
      "source": [
        "# การเข้าถึง Google Drive\n",
        "\n",
        "1) ทำการเรียกใช้โมดูล google drive ดังนี้\n",
        "\n",
        "**from google.colab import drive**\n",
        "\n",
        "2) ทำการ mount ไปที่ google drive ดังนี้\n",
        "\n",
        "**drive.mount('/content/drive')**\n",
        "\n",
        "3) ในการ Run งานเพื่อติดต่อ drive ครั้งแรก จะขึ้นให้ Authorize google account ก่อน โดยไปที่ browser link ดังตัวอย่าง\n",
        "\n",
        "**Go to this URL in a browser: https://accounts.google.com/o/oauth2/auth?client_id=947318989803...**\n",
        "\n",
        "เลือกบัญชี google account และทำการ copy authorization code มาใส่\n",
        "\n",
        "**Enter your authorization code: ...**\n",
        "\n",
        "หากเป็นการ Run งานครั้งถัดไปจะไม่ขึ้นให้ Authorize อีก"
      ]
    },
    {
      "cell_type": "code",
      "metadata": {
        "id": "EMrDluFQQbZQ",
        "colab": {
          "base_uri": "https://localhost:8080/"
        },
        "outputId": "2e1f4b00-8046-4147-8f76-c6f3cbc565a3"
      },
      "source": [
        "# ทำการ import google drive\n",
        "from google.colab import drive\n",
        "drive.mount('/content/drive')"
      ],
      "execution_count": null,
      "outputs": [
        {
          "output_type": "stream",
          "text": [
            "Mounted at /content/drive\n"
          ],
          "name": "stdout"
        }
      ]
    },
    {
      "cell_type": "markdown",
      "metadata": {
        "id": "N-q4T6rOsjax"
      },
      "source": [
        "4) คำสั่งใช้งานกับ file และ directory(folder)\n",
        "\n",
        "ต้องเรียกใช้โมดูล os ดังนี้\n",
        "\n",
        "**import os**\n",
        "\n",
        "4.1) เปลี่ยน directory/folder ดังนี้\n",
        "\n",
        "**os.chdir(path)**\n",
        "\n",
        "4.2) คำสั่งแสดงไฟล์ใน directory/folder ปัจจุบัน \n",
        "\n",
        "**os.listdir(path)**\n",
        "\n",
        "**!ls** #เป็นคำสั่ง Unix\n",
        "\n",
        "4.3) อ่าน directory/folder ปัจจุบัน\n",
        "\n",
        "**path=os.getcwd()**\n",
        "\n",
        "4.4) สร้าง directory/folder \n",
        "\n",
        "**os.mkdir(path)**\n",
        "\n",
        "4.5) ลบ directory/folder \n",
        "\n",
        "**os.rmdir(path)**\n",
        "\n",
        "4.6) เปลี่ยนชื่อ directory\n",
        "\n",
        "**os.rename(source-file,dest-file)**"
      ]
    },
    {
      "cell_type": "code",
      "metadata": {
        "id": "5XhvTGWnqEm4",
        "colab": {
          "base_uri": "https://localhost:8080/"
        },
        "outputId": "c1df0e6b-a8d5-4275-d54e-72e8c67eb189"
      },
      "source": [
        "import os\n",
        "\n",
        "path1=\"/content/drive/My Drive/Colab Notebooks/DeepLearningTool\"\n",
        "os.chdir(path1)\n",
        "print('path1=',path1)\n",
        "os.listdir(path1)\n",
        "print()\n",
        "#!ls #เป็นคำสั่งแสดงไฟล์ภายใน current folder\n",
        "print()\n",
        "\n",
        "path2=os.getcwd() #อ่าน current directory\n",
        "print('path2=',path2)\n",
        "lsdir=os.listdir(path2)\n",
        "print(lsdir)\n",
        "for i,ld in enumerate(lsdir):\n",
        "  print(i+1,ld)\n",
        "listFileFold=[file for file in lsdir]\n",
        "print(listFileFold)"
      ],
      "execution_count": null,
      "outputs": [
        {
          "output_type": "stream",
          "text": [
            "path1= /content/drive/My Drive/Colab Notebooks/DeepLearningTool\n",
            "\n",
            "\n",
            "path2= /content/drive/My Drive/Colab Notebooks/DeepLearningTool\n",
            "['File-Folder.ipynb', 'DataFrame2.ipynb', 'DataFrame1.ipynb', 'data']\n",
            "1 File-Folder.ipynb\n",
            "2 DataFrame2.ipynb\n",
            "3 DataFrame1.ipynb\n",
            "4 data\n",
            "['File-Folder.ipynb', 'DataFrame2.ipynb', 'DataFrame1.ipynb', 'data']\n"
          ],
          "name": "stdout"
        }
      ]
    },
    {
      "cell_type": "code",
      "metadata": {
        "id": "l06IZki5wQYt",
        "colab": {
          "base_uri": "https://localhost:8080/"
        },
        "outputId": "be0ce5bc-0e35-4d1c-972d-264467339b44"
      },
      "source": [
        "os.chdir(path1)\n",
        "newpath='train1'\n",
        "path3=os.path.join(path1,newpath)\n",
        "print(path3)\n",
        "if not os.path.exists(newpath): # ถ้าไม่มี folder นี้ให้สร้างขึ้นใหม่\n",
        "  os.mkdir(newpath)\n",
        "\n",
        "print(os.listdir(path3))\n",
        "\n",
        "src=os.path.join(path1,'DataFrame1.ipynb')\n",
        "dst=os.path.join(path3,'DataFrame1.ipynb')\n",
        "\n",
        "# Move file from path1 to path3\n",
        "if os.path.exists(src):\n",
        "  print(src)\n",
        "  os.rename(src,dst)\n",
        "else:\n",
        "  print('No source file')\n",
        "print(os.listdir(path3))"
      ],
      "execution_count": null,
      "outputs": [
        {
          "output_type": "stream",
          "text": [
            "/content/drive/My Drive/Colab Notebooks/DeepLearningTool/train1\n",
            "[]\n",
            "/content/drive/My Drive/Colab Notebooks/DeepLearningTool/DataFrame1.ipynb\n",
            "['DataFrame1.ipynb']\n"
          ],
          "name": "stdout"
        }
      ]
    },
    {
      "cell_type": "code",
      "metadata": {
        "id": "GNtfG4d3JhwL",
        "colab": {
          "base_uri": "https://localhost:8080/"
        },
        "outputId": "7ee9bef8-3fd1-4312-b2e2-e3987c3360f9"
      },
      "source": [
        "# Move file back from path3 to path1\n",
        "if os.path.exists(dst):\n",
        "  print(dst)\n",
        "  os.rename(dst,src)\n",
        "else:\n",
        "  print('No source file')\n",
        "print(os.listdir(path1))"
      ],
      "execution_count": null,
      "outputs": [
        {
          "output_type": "stream",
          "text": [
            "/content/drive/My Drive/Colab Notebooks/DeepLearningTool/train1/DataFrame1.ipynb\n",
            "['File-Folder.ipynb', 'DataFrame2.ipynb', 'DataFrame1.ipynb', 'data', 'train1']\n"
          ],
          "name": "stdout"
        }
      ]
    },
    {
      "cell_type": "markdown",
      "metadata": {
        "id": "GFE7LftpImuy"
      },
      "source": [
        "คำสั่งเกี่ยวกับไฟล์\n",
        "1) เปลี่ยนชื่อไฟล์ \n",
        "\n",
        "**os.rename(src,dst)**\n",
        "\n",
        "2) ลบไฟล์ \n",
        "\n",
        "**os.remove(file)**\n",
        "\n",
        "3) copy file ให้ใช้คำสั่่งดังนี้\n",
        "\n",
        "**import shutil**\n",
        "\n",
        "**shutil.copyfile(src,dst)**\n"
      ]
    },
    {
      "cell_type": "code",
      "metadata": {
        "id": "K0TPaSOVFNdv",
        "colab": {
          "base_uri": "https://localhost:8080/"
        },
        "outputId": "c2283a52-b542-4e1b-fbb9-d60015683876"
      },
      "source": [
        "import shutil\n",
        "\n",
        "#print(os.listdir(path1))\n",
        "dst2=os.path.join(path3+'/DataFrame1.ipynb')\n",
        "if os.path.exists(src):\n",
        "  shutil.copyfile(src,dst2)\n",
        "else:\n",
        "  print('No source file')\n",
        "print(path3)\n",
        "print(os.listdir(path3))"
      ],
      "execution_count": null,
      "outputs": [
        {
          "output_type": "stream",
          "text": [
            "/content/drive/My Drive/Colab Notebooks/DeepLearningTool/train1\n",
            "['DataFrame1.ipynb']\n"
          ],
          "name": "stdout"
        }
      ]
    },
    {
      "cell_type": "code",
      "metadata": {
        "id": "Xo31YpbiJxty",
        "colab": {
          "base_uri": "https://localhost:8080/"
        },
        "outputId": "d1d62be9-27e1-4054-e736-5891245103cd"
      },
      "source": [
        "if os.path.exists(dst2):\n",
        "  os.remove(dst2)\n",
        "else:\n",
        "  print('No such file/directory')\n",
        "os.listdir(path3)\n",
        "os.chdir(path1)\n",
        "os.listdir(path1)"
      ],
      "execution_count": null,
      "outputs": [
        {
          "output_type": "stream",
          "text": [
            "No such file/directory\n"
          ],
          "name": "stdout"
        },
        {
          "output_type": "execute_result",
          "data": {
            "text/plain": [
              "['File-Folder.ipynb', 'DataFrame2.ipynb', 'DataFrame1.ipynb', 'data', 'train1']"
            ]
          },
          "metadata": {
            "tags": []
          },
          "execution_count": 15
        }
      ]
    },
    {
      "cell_type": "code",
      "metadata": {
        "id": "tUhWRd3iWkKs",
        "colab": {
          "base_uri": "https://localhost:8080/"
        },
        "outputId": "7b1cfa13-a270-4514-d68f-c334525f3048"
      },
      "source": [
        "curr_path=os.getcwd()\n",
        "print(curr_path)\n",
        "os.listdir(curr_path)\n",
        "if os.path.exists('train1'):\n",
        "  os.rmdir('train1')\n",
        "else:\n",
        "  print('No such file/directory')\n",
        "os.listdir(curr_path)"
      ],
      "execution_count": null,
      "outputs": [
        {
          "output_type": "stream",
          "text": [
            "/content/drive/My Drive/Colab Notebooks/DeepLearningTool\n",
            "No such file/directory\n"
          ],
          "name": "stdout"
        },
        {
          "output_type": "execute_result",
          "data": {
            "text/plain": [
              "['File-Folder.ipynb', 'DataFrame2.ipynb', 'DataFrame1.ipynb', 'data']"
            ]
          },
          "metadata": {
            "tags": []
          },
          "execution_count": 19
        }
      ]
    }
  ]
}