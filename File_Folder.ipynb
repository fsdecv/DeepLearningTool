{
  "nbformat": 4,
  "nbformat_minor": 0,
  "metadata": {
    "colab": {
      "name": "Copy of File-Folder.ipynb",
      "provenance": [],
      "collapsed_sections": [],
      "authorship_tag": "ABX9TyMdFviR6zCuijQ6Qb25NveC",
      "include_colab_link": true
    },
    "kernelspec": {
      "name": "python3",
      "display_name": "Python 3"
    }
  },
  "cells": [
    {
      "cell_type": "markdown",
      "metadata": {
        "id": "view-in-github",
        "colab_type": "text"
      },
      "source": [
        "<a href=\"https://colab.research.google.com/github/rchamchong/DeepLearningTool/blob/main/Copy_of_File_Folder.ipynb\" target=\"_parent\"><img src=\"https://colab.research.google.com/assets/colab-badge.svg\" alt=\"Open In Colab\"/></a>"
      ]
    },
    {
      "cell_type": "markdown",
      "metadata": {
        "id": "SwkGWNnOQ3rx"
      },
      "source": [
        "# การเข้าถึง Google Drive\n",
        "\n",
        "1) ทำการเรียกใช้โมดูล google drive ดังนี้\n",
        "\n",
        "**from google.colab import drive**\n",
        "\n",
        "2) ทำการ mount ไปที่ google drive ดังนี้\n",
        "\n",
        "**drive.mount('/content/drive')**\n",
        "\n",
        "3) ในการ Run งานเพื่อติดต่อ drive ครั้งแรก จะขึ้นให้ Authorize google account ก่อน โดยไปที่ browser link ดังตัวอย่าง\n",
        "\n",
        "**Go to this URL in a browser: https://accounts.google.com/o/oauth2/auth?client_id=947318989803...**\n",
        "\n",
        "เลือกบัญชี google account และทำการ copy authorization code มาใส่\n",
        "\n",
        "**Enter your authorization code: ...**\n",
        "\n",
        "หากเป็นการ Run งานครั้งถัดไปจะไม่ขึ้นให้ Authorize อีก"
      ]
    },
    {
      "cell_type": "code",
      "metadata": {
        "id": "EMrDluFQQbZQ",
        "colab": {
          "base_uri": "https://localhost:8080/",
          "height": 121
        },
        "outputId": "2d1920fe-4c83-4ee1-b492-157821581462"
      },
      "source": [
        "# ทำการ import google drive\n",
        "from google.colab import drive\n",
        "drive.mount('/content/drive')"
      ],
      "execution_count": null,
      "outputs": [
        {
          "output_type": "stream",
          "text": [
            "Go to this URL in a browser: https://accounts.google.com/o/oauth2/auth?client_id=947318989803-6bn6qk8qdgf4n4g3pfee6491hc0brc4i.apps.googleusercontent.com&redirect_uri=urn%3aietf%3awg%3aoauth%3a2.0%3aoob&scope=email%20https%3a%2f%2fwww.googleapis.com%2fauth%2fdocs.test%20https%3a%2f%2fwww.googleapis.com%2fauth%2fdrive%20https%3a%2f%2fwww.googleapis.com%2fauth%2fdrive.photos.readonly%20https%3a%2f%2fwww.googleapis.com%2fauth%2fpeopleapi.readonly&response_type=code\n",
            "\n",
            "Enter your authorization code:\n",
            "··········\n",
            "Mounted at /content/drive\n"
          ],
          "name": "stdout"
        }
      ]
    },
    {
      "cell_type": "markdown",
      "metadata": {
        "id": "N-q4T6rOsjax"
      },
      "source": [
        "4) คำสั่งใช้งานกับ file และ directory(folder)\n",
        "\n",
        "ต้องเรียกใช้โมดูล os ดังนี้\n",
        "\n",
        "**import os**\n",
        "\n",
        "4.1) เปลี่ยน directory/folder ดังนี้\n",
        "\n",
        "**os.chdir(path)**\n",
        "\n",
        "4.2) คำสั่งแสดงไฟล์ใน directory/folder ปัจจุบัน \n",
        "\n",
        "**os.listdir(path)**\n",
        "\n",
        "**!ls** #เป็นคำสั่ง Unix\n",
        "\n",
        "4.3) อ่าน directory/folder ปัจจุบัน\n",
        "\n",
        "**path=os.getcwd()**\n",
        "\n",
        "4.4) สร้าง directory/folder \n",
        "\n",
        "**os.mkdir(path)**\n",
        "\n",
        "4.5) ลบ directory/folder \n",
        "\n",
        "**os.rmdir(path)**"
      ]
    },
    {
      "cell_type": "code",
      "metadata": {
        "id": "5XhvTGWnqEm4",
        "colab": {
          "base_uri": "https://localhost:8080/",
          "height": 541
        },
        "outputId": "78d09b06-645f-4839-aea6-1c30505bb732"
      },
      "source": [
        "import os\n",
        "\n",
        "path1=\"/content/drive/My Drive/Colab Notebooks/\"\n",
        "os.chdir(path1)\n",
        "print('path1=',path1)\n",
        "os.listdir(path1)\n",
        "print()\n",
        "#!ls #เป็นคำสั่งแสดงไฟล์ภายใน current folder\n",
        "print()\n",
        "\n",
        "path2=os.getcwd() #อ่าน current directory\n",
        "print('path2=',path2)\n",
        "lsdir=os.listdir(path2)\n",
        "print(lsdir)\n",
        "for i,ld in enumerate(lsdir):\n",
        "  print(i+1,ld)\n",
        "listFileFold=[file for file in lsdir]\n",
        "print(listFileFold)"
      ],
      "execution_count": null,
      "outputs": [
        {
          "output_type": "stream",
          "text": [
            "path1= /content/drive/My Drive/Colab Notebooks/\n",
            "\n",
            "\n",
            "path2= /content/drive/My Drive/Colab Notebooks\n",
            "['Untitled2.ipynb', 'Untitled3.ipynb', 'Speech2Txt', 'hwr_seq02.ipynb', 'TestHWR_pytorch2.ipynb', 'AGRI', 'DL-torch', 'Copy of CatAndDog (1).ipynb', '1204201Prob', 'Copy of Untitled0.ipynb', 'Untitled', 'Python-DL', 'Copy of CatAndDog.ipynb', 'Copy of Cats and Dogs Classifier with Pytorch.ipynb', 'Road', 'Copy of Ex6_01.ipynb', 'Copy of SaveFileName.ipynb', 'train1', 'train2', 'RiceForecast2.ipynb', 'PythonTrain', 'Copy of ReadFileFromZip1.ipynb', 'RiceForecast.ipynb', 'RiceForecast1.ipynb']\n",
            "1 Untitled2.ipynb\n",
            "2 Untitled3.ipynb\n",
            "3 Speech2Txt\n",
            "4 hwr_seq02.ipynb\n",
            "5 TestHWR_pytorch2.ipynb\n",
            "6 AGRI\n",
            "7 DL-torch\n",
            "8 Copy of CatAndDog (1).ipynb\n",
            "9 1204201Prob\n",
            "10 Copy of Untitled0.ipynb\n",
            "11 Untitled\n",
            "12 Python-DL\n",
            "13 Copy of CatAndDog.ipynb\n",
            "14 Copy of Cats and Dogs Classifier with Pytorch.ipynb\n",
            "15 Road\n",
            "16 Copy of Ex6_01.ipynb\n",
            "17 Copy of SaveFileName.ipynb\n",
            "18 train1\n",
            "19 train2\n",
            "20 RiceForecast2.ipynb\n",
            "21 PythonTrain\n",
            "22 Copy of ReadFileFromZip1.ipynb\n",
            "23 RiceForecast.ipynb\n",
            "24 RiceForecast1.ipynb\n",
            "['Untitled2.ipynb', 'Untitled3.ipynb', 'Speech2Txt', 'hwr_seq02.ipynb', 'TestHWR_pytorch2.ipynb', 'AGRI', 'DL-torch', 'Copy of CatAndDog (1).ipynb', '1204201Prob', 'Copy of Untitled0.ipynb', 'Untitled', 'Python-DL', 'Copy of CatAndDog.ipynb', 'Copy of Cats and Dogs Classifier with Pytorch.ipynb', 'Road', 'Copy of Ex6_01.ipynb', 'Copy of SaveFileName.ipynb', 'train1', 'train2', 'RiceForecast2.ipynb', 'PythonTrain', 'Copy of ReadFileFromZip1.ipynb', 'RiceForecast.ipynb', 'RiceForecast1.ipynb']\n"
          ],
          "name": "stdout"
        }
      ]
    },
    {
      "cell_type": "code",
      "metadata": {
        "id": "l06IZki5wQYt",
        "colab": {
          "base_uri": "https://localhost:8080/",
          "height": 67
        },
        "outputId": "d1da0e1f-2632-48a1-b4e9-1c3f817e0b2e"
      },
      "source": [
        "os.chdir(path1)\n",
        "newpath='train1'\n",
        "path3=os.path.join(path1,newpath)\n",
        "print(path3)\n",
        "if not os.path.exists(newpath):\n",
        "  os.mkdir(newpath)\n",
        "\n",
        "print(os.listdir(path3))\n",
        "#os.chdir(path3)\n",
        "src=os.path.join(path1+'/RiceForecast.ipynb')\n",
        "dst=os.path.join(path3+'/RiceForecast.ipynb')\n",
        "\n",
        "os.rename(src,dst)\n",
        "print(os.listdir(path3))"
      ],
      "execution_count": null,
      "outputs": [
        {
          "output_type": "stream",
          "text": [
            "/content/drive/My Drive/Colab Notebooks/train1\n",
            "['RiceForecast1.ipynb']\n",
            "['RiceForecast.ipynb', 'RiceForecast1.ipynb']\n"
          ],
          "name": "stdout"
        }
      ]
    },
    {
      "cell_type": "code",
      "metadata": {
        "id": "GNtfG4d3JhwL",
        "colab": {
          "base_uri": "https://localhost:8080/",
          "height": 34
        },
        "outputId": "8e424044-8d7c-4b02-a20f-dad408c1ddb3"
      },
      "source": [
        "os.rename(dst,src)\n",
        "print(os.listdir(path3))"
      ],
      "execution_count": null,
      "outputs": [
        {
          "output_type": "stream",
          "text": [
            "['RiceForecast1.ipynb']\n"
          ],
          "name": "stdout"
        }
      ]
    },
    {
      "cell_type": "markdown",
      "metadata": {
        "id": "GFE7LftpImuy"
      },
      "source": [
        "คำสั่งเกี่ยวกับไฟล์\n",
        "1) เปลี่ยนชื่อไฟล์ \n",
        "\n",
        "**os.rename(src,dst)**\n",
        "\n",
        "2) ลบไฟล์ \n",
        "\n",
        "**os.remove(file)**\n",
        "\n",
        "3) copy file ให้ใช้คำสั่่งดังนี้\n",
        "\n",
        "**import shutil**\n",
        "\n",
        "**shutil.copyfile(src,dst)**\n"
      ]
    },
    {
      "cell_type": "code",
      "metadata": {
        "id": "K0TPaSOVFNdv",
        "colab": {
          "base_uri": "https://localhost:8080/",
          "height": 34
        },
        "outputId": "3ca5ec52-0e7f-4126-e981-6b0317d88d01"
      },
      "source": [
        "import shutil\n",
        "\n",
        "#print(os.listdir(path1))\n",
        "dst2=os.path.join(path3+'/RiceForecast1.ipynb')\n",
        "shutil.copyfile(src,dst2)\n",
        "print(os.listdir(path3))"
      ],
      "execution_count": null,
      "outputs": [
        {
          "output_type": "stream",
          "text": [
            "['RiceForecast1.ipynb']\n"
          ],
          "name": "stdout"
        }
      ]
    },
    {
      "cell_type": "code",
      "metadata": {
        "id": "Xo31YpbiJxty",
        "colab": {
          "base_uri": "https://localhost:8080/",
          "height": 72
        },
        "outputId": "3bfb9f2c-1595-4121-d8df-d44060553e88"
      },
      "source": [
        "os.remove(dst2)\n",
        "os.listdir(path3)\n",
        "os.chdir(path1)\n",
        "os.listdir(path1)"
      ],
      "execution_count": null,
      "outputs": [
        {
          "output_type": "stream",
          "text": [
            "[]\n",
            "['Untitled2.ipynb', 'Untitled3.ipynb', 'Speech2Txt', 'hwr_seq02.ipynb', 'TestHWR_pytorch2.ipynb', 'AGRI', 'DL-torch', 'Copy of CatAndDog (1).ipynb', '1204201Prob', 'Copy of Untitled0.ipynb', 'Untitled', 'Python-DL', 'Copy of CatAndDog.ipynb', 'Copy of Cats and Dogs Classifier with Pytorch.ipynb', 'Road', 'Copy of Ex6_01.ipynb', 'Copy of SaveFileName.ipynb', 'DataFrame1.ipynb', 'train1', 'train2', 'RiceForecast.ipynb', 'RiceForecast2.ipynb']\n"
          ],
          "name": "stdout"
        }
      ]
    },
    {
      "cell_type": "code",
      "metadata": {
        "id": "tUhWRd3iWkKs",
        "colab": {
          "base_uri": "https://localhost:8080/",
          "height": 34
        },
        "outputId": "6cdc3178-a7c2-4310-e204-789f84fd8ebd"
      },
      "source": [
        "print(os.getcwd())\n",
        "os.rmdir('train2')\n"
      ],
      "execution_count": null,
      "outputs": [
        {
          "output_type": "stream",
          "text": [
            "/content/drive/My Drive/Colab Notebooks\n"
          ],
          "name": "stdout"
        }
      ]
    },
    {
      "cell_type": "code",
      "metadata": {
        "id": "3xcKgH0wW74e",
        "colab": {
          "base_uri": "https://localhost:8080/",
          "height": 54
        },
        "outputId": "479a637f-70d9-4395-fd72-1856cb0f269f"
      },
      "source": [
        "print(os.listdir(path1))"
      ],
      "execution_count": null,
      "outputs": [
        {
          "output_type": "stream",
          "text": [
            "['Untitled2.ipynb', 'Untitled3.ipynb', 'Speech2Txt', 'hwr_seq02.ipynb', 'TestHWR_pytorch2.ipynb', 'AGRI', 'DL-torch', 'Copy of CatAndDog (1).ipynb', '1204201Prob', 'Copy of Untitled0.ipynb', 'Untitled', 'Python-DL', 'Copy of CatAndDog.ipynb', 'Copy of Cats and Dogs Classifier with Pytorch.ipynb', 'Road', 'Copy of Ex6_01.ipynb', 'Copy of SaveFileName.ipynb', 'train1', 'RiceForecast2.ipynb', 'PythonTrain', 'Copy of ReadFileFromZip1.ipynb', 'RiceForecast.ipynb', 'RiceForecast1.ipynb']\n"
          ],
          "name": "stdout"
        }
      ]
    },
    {
      "cell_type": "code",
      "metadata": {
        "id": "aNSBDTBpKSUX",
        "colab": {
          "base_uri": "https://localhost:8080/",
          "height": 399
        },
        "outputId": "a2a3cbf2-9a44-4331-8dcc-590026e5755b"
      },
      "source": [
        "os.listdir(path1)"
      ],
      "execution_count": null,
      "outputs": [
        {
          "output_type": "execute_result",
          "data": {
            "text/plain": [
              "['Untitled2.ipynb',\n",
              " 'Untitled3.ipynb',\n",
              " 'Speech2Txt',\n",
              " 'hwr_seq02.ipynb',\n",
              " 'TestHWR_pytorch2.ipynb',\n",
              " 'AGRI',\n",
              " 'DL-torch',\n",
              " 'Copy of CatAndDog (1).ipynb',\n",
              " '1204201Prob',\n",
              " 'Copy of Untitled0.ipynb',\n",
              " 'Untitled',\n",
              " 'Python-DL',\n",
              " 'Copy of CatAndDog.ipynb',\n",
              " 'Copy of Cats and Dogs Classifier with Pytorch.ipynb',\n",
              " 'Road',\n",
              " 'Copy of Ex6_01.ipynb',\n",
              " 'Copy of SaveFileName.ipynb',\n",
              " 'DataFrame1.ipynb',\n",
              " 'train1',\n",
              " 'train2',\n",
              " 'RiceForecast.ipynb',\n",
              " 'RiceForecast2.ipynb']"
            ]
          },
          "metadata": {
            "tags": []
          },
          "execution_count": 57
        }
      ]
    }
  ]
}
