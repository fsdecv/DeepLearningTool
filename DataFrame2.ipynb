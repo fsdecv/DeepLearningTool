{
  "nbformat": 4,
  "nbformat_minor": 0,
  "metadata": {
    "colab": {
      "name": "DataFrame2.ipynb",
      "provenance": [],
      "collapsed_sections": [],
      "authorship_tag": "ABX9TyM3AIucGSBgL00+HukUBan3"
    },
    "kernelspec": {
      "name": "python3",
      "display_name": "Python 3"
    }
  },
  "cells": [
    {
      "cell_type": "code",
      "metadata": {
        "id": "BdH-Bll7NpUI",
        "colab": {
          "base_uri": "https://localhost:8080/"
        },
        "outputId": "adfd74ee-ca50-4573-d153-15dfe2c04a06"
      },
      "source": [
        "import os\n",
        "import numpy as np\n",
        "import pandas as pd\n",
        "from google.colab import drive\n",
        "\n",
        "# load ไฟล์จาก folder\n",
        "def loadDataFolder(path): \n",
        "    print('please wait processing...')\n",
        "    fileName=[] #filename\n",
        "\n",
        "    for root, dirs, files in os.walk(\".\"):\n",
        "      for file in files:\n",
        "        if file.endswith(\".jpg\"):\n",
        "            print(file)\n",
        "            fileName.append(file)\n",
        "\n",
        "    # สร้าง pandas frame\n",
        "    df = pd.DataFrame({'filename': fileName,'path':path})\n",
        "    print('#file=%d'%(len(df)))\n",
        "    return df\n",
        "\n",
        "drive.mount('/content/drive')\n",
        "path=\"/content/drive/My Drive/Colab Notebooks/DeepLearningTool/data/Road\"\n",
        "os.chdir(path)\n",
        "# path=os.getcwd() #อ่าน current directory\n",
        "# print(path)\n",
        "\n",
        "df = loadDataFolder(path) # load ข้อมูลจาก folder\n",
        "\n",
        "# กำหนด file ที่ต้องการเก็บเป็น csv จาก pandas\n",
        "out_file='fileList.csv'\n",
        "print(df)\n",
        "print('Save to \"%s\"'%out_file)\n",
        "df.to_csv(out_file)\n",
        "print('size of data=',len(df))"
      ],
      "execution_count": 1,
      "outputs": [
        {
          "output_type": "stream",
          "text": [
            "Mounted at /content/drive\n",
            "please wait processing...\n",
            "out0.jpg\n",
            "out2.jpg\n",
            "out1.jpg\n",
            "out3.jpg\n",
            "out5.jpg\n",
            "out6.jpg\n",
            "out4.jpg\n",
            "out7.jpg\n",
            "out8.jpg\n",
            "out9.jpg\n",
            "#file=10\n",
            "   filename                                               path\n",
            "0  out0.jpg  /content/drive/My Drive/Colab Notebooks/DeepLe...\n",
            "1  out2.jpg  /content/drive/My Drive/Colab Notebooks/DeepLe...\n",
            "2  out1.jpg  /content/drive/My Drive/Colab Notebooks/DeepLe...\n",
            "3  out3.jpg  /content/drive/My Drive/Colab Notebooks/DeepLe...\n",
            "4  out5.jpg  /content/drive/My Drive/Colab Notebooks/DeepLe...\n",
            "5  out6.jpg  /content/drive/My Drive/Colab Notebooks/DeepLe...\n",
            "6  out4.jpg  /content/drive/My Drive/Colab Notebooks/DeepLe...\n",
            "7  out7.jpg  /content/drive/My Drive/Colab Notebooks/DeepLe...\n",
            "8  out8.jpg  /content/drive/My Drive/Colab Notebooks/DeepLe...\n",
            "9  out9.jpg  /content/drive/My Drive/Colab Notebooks/DeepLe...\n",
            "Save to \"fileList.csv\"\n",
            "size of data= 10\n"
          ],
          "name": "stdout"
        }
      ]
    }
  ]
}